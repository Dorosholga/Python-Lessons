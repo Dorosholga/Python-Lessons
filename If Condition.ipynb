{
 "cells": [
  {
   "cell_type": "code",
   "execution_count": 2,
   "metadata": {},
   "outputs": [
    {
     "name": "stdout",
     "output_type": "stream",
     "text": [
      "вне блока if\n"
     ]
    }
   ],
   "source": [
    "a=4\n",
    "b=2\n",
    "if a<b:\n",
    "    print(\"a меньче, чем b\")\n",
    "print(\"вне блока if\")"
   ]
  },
  {
   "cell_type": "code",
   "execution_count": 5,
   "metadata": {},
   "outputs": [
    {
     "name": "stdout",
     "output_type": "stream",
     "text": [
      "c больше или равно d\n",
      "вне блока if\n"
     ]
    }
   ],
   "source": [
    "c=5\n",
    "d=4\n",
    "if c<d:\n",
    "    print('c меньше d')\n",
    "else:\n",
    "    print('c больше или равно d')\n",
    "print('вне блока if')    "
   ]
  },
  {
   "cell_type": "code",
   "execution_count": 19,
   "metadata": {},
   "outputs": [
    {
     "name": "stdout",
     "output_type": "stream",
     "text": [
      "e больше f на 10 и более\n"
     ]
    }
   ],
   "source": [
    "e=22\n",
    "f=8\n",
    "if e<f:\n",
    "    print(\"e меньше f\")\n",
    "elif e==f:\n",
    "    print (\"e равняется f\")    \n",
    "elif e>f+10:\n",
    "    print('e больше f на 10 и более')\n",
    "else:\n",
    "    print(\"e больше, чем f\")\n",
    "    "
   ]
  },
  {
   "cell_type": "code",
   "execution_count": 22,
   "metadata": {},
   "outputs": [
    {
     "name": "stdout",
     "output_type": "stream",
     "text": [
      "g больше f\n"
     ]
    }
   ],
   "source": [
    "g=9\n",
    "h=8\n",
    "if g<h:\n",
    "    print('g меньше f')\n",
    "else:\n",
    "    if g==f:\n",
    "        print('g равняется f')\n",
    "    else:\n",
    "        print('g больше f')"
   ]
  },
  {
   "cell_type": "code",
   "execution_count": 29,
   "metadata": {},
   "outputs": [
    {
     "name": "stdout",
     "output_type": "stream",
     "text": [
      "Индекс массы тела: 37.5\n",
      "у Tom есть лишний вес\n"
     ]
    }
   ],
   "source": [
    "name='Tom'\n",
    "height=2\n",
    "weight=150\n",
    "\n",
    "bmi=weight/(height**2)\n",
    "print('Индекс массы тела: '+ str(bmi))\n",
    "\n",
    "if bmi<25:\n",
    "    print('У ' + name + ' нет лишнего веса')\n",
    "else:\n",
    "    print('у ' + name + ' есть лишний вес')\n",
    "    "
   ]
  },
  {
   "cell_type": "code",
   "execution_count": 30,
   "metadata": {},
   "outputs": [
    {
     "data": {
      "text/plain": [
       "False"
      ]
     },
     "execution_count": 30,
     "metadata": {},
     "output_type": "execute_result"
    }
   ],
   "source": [
    "10<5"
   ]
  },
  {
   "cell_type": "code",
   "execution_count": 31,
   "metadata": {},
   "outputs": [
    {
     "data": {
      "text/plain": [
       "True"
      ]
     },
     "execution_count": 31,
     "metadata": {},
     "output_type": "execute_result"
    }
   ],
   "source": [
    "7>3"
   ]
  },
  {
   "cell_type": "code",
   "execution_count": 32,
   "metadata": {},
   "outputs": [
    {
     "name": "stdout",
     "output_type": "stream",
     "text": [
      "False\n"
     ]
    }
   ],
   "source": [
    "my_bool=10<5\n",
    "print(my_bool)"
   ]
  },
  {
   "cell_type": "code",
   "execution_count": null,
   "metadata": {},
   "outputs": [],
   "source": []
  }
 ],
 "metadata": {
  "kernelspec": {
   "display_name": "Python 3",
   "language": "python",
   "name": "python3"
  },
  "language_info": {
   "codemirror_mode": {
    "name": "ipython",
    "version": 3
   },
   "file_extension": ".py",
   "mimetype": "text/x-python",
   "name": "python",
   "nbconvert_exporter": "python",
   "pygments_lexer": "ipython3",
   "version": "3.7.6"
  }
 },
 "nbformat": 4,
 "nbformat_minor": 4
}
